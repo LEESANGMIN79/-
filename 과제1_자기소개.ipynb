{
  "nbformat": 4,
  "nbformat_minor": 0,
  "metadata": {
    "colab": {
      "provenance": [],
      "authorship_tag": "ABX9TyNz6JQcAaxs+9IlNcnPIllD",
      "include_colab_link": true
    },
    "kernelspec": {
      "name": "python3",
      "display_name": "Python 3"
    },
    "language_info": {
      "name": "python"
    }
  },
  "cells": [
    {
      "cell_type": "markdown",
      "metadata": {
        "id": "view-in-github",
        "colab_type": "text"
      },
      "source": [
        "<a href=\"https://colab.research.google.com/github/LEESANGMIN79/-/blob/main/%EA%B3%BC%EC%A0%9C1_%EC%9E%90%EA%B8%B0%EC%86%8C%EA%B0%9C.ipynb\" target=\"_parent\"><img src=\"https://colab.research.google.com/assets/colab-badge.svg\" alt=\"Open In Colab\"/></a>"
      ]
    },
    {
      "cell_type": "code",
      "execution_count": 1,
      "metadata": {
        "colab": {
          "base_uri": "https://localhost:8080/"
        },
        "id": "xLHAew_HPK8f",
        "outputId": "b8e6b919-6272-40f6-9243-4b0770470884"
      },
      "outputs": [
        {
          "output_type": "stream",
          "name": "stdout",
          "text": [
            "제 이름은 이상민입니다. 나이는 45살이고, 직업은 개발자입니다.\n"
          ]
        }
      ],
      "source": [
        "def self_intro(name, age, job):\n",
        "  print (f\"제 이름은 {name}입니다. 나이는 {age}살이고, 직업은 {job}입니다.\")\n",
        "\n",
        "\n",
        "self_intro(\"이상민\", 45, \"개발자\")"
      ]
    }
  ]
}