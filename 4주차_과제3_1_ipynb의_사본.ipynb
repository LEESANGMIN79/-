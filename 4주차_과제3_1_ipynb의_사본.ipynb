{
  "nbformat": 4,
  "nbformat_minor": 0,
  "metadata": {
    "colab": {
      "provenance": [],
      "authorship_tag": "ABX9TyPYgyHXeCGvgrex87qxgsQX",
      "include_colab_link": true
    },
    "kernelspec": {
      "name": "python3",
      "display_name": "Python 3"
    },
    "language_info": {
      "name": "python"
    }
  },
  "cells": [
    {
      "cell_type": "markdown",
      "metadata": {
        "id": "view-in-github",
        "colab_type": "text"
      },
      "source": [
        "<a href=\"https://colab.research.google.com/github/LEESANGMIN79/-/blob/main/4%EC%A3%BC%EC%B0%A8_%EA%B3%BC%EC%A0%9C3_1_ipynb%EC%9D%98_%EC%82%AC%EB%B3%B8.ipynb\" target=\"_parent\"><img src=\"https://colab.research.google.com/assets/colab-badge.svg\" alt=\"Open In Colab\"/></a>"
      ]
    },
    {
      "cell_type": "code",
      "execution_count": null,
      "metadata": {
        "colab": {
          "base_uri": "https://localhost:8080/"
        },
        "id": "zKSG19ijTy6A",
        "outputId": "5d66dd46-6cf4-43e5-a0ee-5edeb0c4affe"
      },
      "outputs": [
        {
          "output_type": "stream",
          "name": "stdout",
          "text": [
            "[[[ 8 13 13  2 12 12]\n",
            "  [14 16  7 14 18  6]\n",
            "  [15  5  4 13 17  3]]\n",
            "\n",
            " [[14 13 17  4 14  4]\n",
            "  [19  5 11  7 12 11]\n",
            "  [13  0 13  7 10 18]]\n",
            "\n",
            " [[10  3 18 17  8 11]\n",
            "  [12 17  9  5  8  1]\n",
            "  [ 1 17 18  1  4 14]]]\n"
          ]
        }
      ],
      "source": [
        "import numpy as np\n",
        "\n",
        "shape = (3,3,6)\n",
        "\n",
        "arr = np.random.randint(0,21,shape)\n",
        "\n",
        "print(arr)"
      ]
    }
  ]
}