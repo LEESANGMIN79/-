{
  "nbformat": 4,
  "nbformat_minor": 0,
  "metadata": {
    "colab": {
      "provenance": [],
      "authorship_tag": "ABX9TyMXLJwYGQ3002g0gqWKLmCI",
      "include_colab_link": true
    },
    "kernelspec": {
      "name": "python3",
      "display_name": "Python 3"
    },
    "language_info": {
      "name": "python"
    }
  },
  "cells": [
    {
      "cell_type": "markdown",
      "metadata": {
        "id": "view-in-github",
        "colab_type": "text"
      },
      "source": [
        "<a href=\"https://colab.research.google.com/github/LEESANGMIN79/-/blob/main/4%EC%A3%BC%EC%B0%A8_%EA%B3%BC%EC%A0%9C3_2_ipynb%EC%9D%98_%EC%82%AC%EB%B3%B8.ipynb\" target=\"_parent\"><img src=\"https://colab.research.google.com/assets/colab-badge.svg\" alt=\"Open In Colab\"/></a>"
      ]
    },
    {
      "cell_type": "code",
      "execution_count": null,
      "metadata": {
        "colab": {
          "base_uri": "https://localhost:8080/"
        },
        "id": "zKSG19ijTy6A",
        "outputId": "b9cc168f-5b28-4cd1-a559-80d8117dd8e1"
      },
      "outputs": [
        {
          "output_type": "stream",
          "name": "stdout",
          "text": [
            "[[51 34 54  2 79 46]\n",
            " [38 46 43 29  8 89]\n",
            " [46 17 48 16 78 72]\n",
            " [94 44 17  0 23 97]\n",
            " [54 54 80 75  4 65]]\n"
          ]
        }
      ],
      "source": [
        "import numpy as np\n",
        "\n",
        "shape = (5,6)\n",
        "\n",
        "arr = np.random.randint(0,101,shape)\n",
        "\n",
        "print(arr)"
      ]
    }
  ]
}