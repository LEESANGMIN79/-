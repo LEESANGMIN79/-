{
  "nbformat": 4,
  "nbformat_minor": 0,
  "metadata": {
    "colab": {
      "provenance": [],
      "authorship_tag": "ABX9TyMXAg9u6qYACCXFsKa7vR/y",
      "include_colab_link": true
    },
    "kernelspec": {
      "name": "python3",
      "display_name": "Python 3"
    },
    "language_info": {
      "name": "python"
    }
  },
  "cells": [
    {
      "cell_type": "markdown",
      "metadata": {
        "id": "view-in-github",
        "colab_type": "text"
      },
      "source": [
        "<a href=\"https://colab.research.google.com/github/LEESANGMIN79/-/blob/main/4%EC%A3%BC%EC%B0%A8_%EA%B3%BC%EC%A0%9C2_ipynb%EC%9D%98_%EC%82%AC%EB%B3%B8.ipynb\" target=\"_parent\"><img src=\"https://colab.research.google.com/assets/colab-badge.svg\" alt=\"Open In Colab\"/></a>"
      ]
    },
    {
      "cell_type": "code",
      "execution_count": null,
      "metadata": {
        "colab": {
          "base_uri": "https://localhost:8080/"
        },
        "id": "zKSG19ijTy6A",
        "outputId": "ed11557d-3a15-4c1b-938f-99b77fd79517"
      },
      "outputs": [
        {
          "output_type": "stream",
          "name": "stdout",
          "text": [
            "[[28 24 29 38  5 42]\n",
            " [43  7 21 39 35  1]\n",
            " [42 38 12 33  8 28]]\n"
          ]
        }
      ],
      "source": [
        "import numpy as np\n",
        "\n",
        "results = []\n",
        "\n",
        "for _ in range(3):\n",
        "    a = np.arange(1, 46)\n",
        "    np.random.shuffle(a)\n",
        "    lotto = a[:6]\n",
        "    results.append(lotto)\n",
        "\n",
        "results_array = np.array(results)\n",
        "print(results_array)\n"
      ]
    }
  ]
}